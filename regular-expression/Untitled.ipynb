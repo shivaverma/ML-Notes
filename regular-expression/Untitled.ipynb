{
 "cells": [
  {
   "cell_type": "code",
   "execution_count": 27,
   "metadata": {},
   "outputs": [],
   "source": [
    "import re\n",
    "import ast\n",
    "import math"
   ]
  },
  {
   "cell_type": "code",
   "execution_count": 64,
   "metadata": {},
   "outputs": [],
   "source": [
    "test = \"--a=2.0 --a3=4.0 --e2=[3,[3,4,3]]\""
   ]
  },
  {
   "cell_type": "code",
   "execution_count": 65,
   "metadata": {},
   "outputs": [
    {
     "name": "stdout",
     "output_type": "stream",
     "text": [
      "2 4 3.17 \n"
     ]
    }
   ],
   "source": [
    "pattern = re.compile(r'--[a-zA-Z0-9]+=[\\[\\]0-9,.]+')\n",
    "\n",
    "match = pattern.findall(test)\n",
    "\n",
    "length = len(test)+1\n",
    "\n",
    "for j in match:\n",
    "    length -= len(j)+1\n",
    "    \n",
    "if(length==0):\n",
    "    \n",
    "    flag=0\n",
    "    results = []\n",
    "    \n",
    "    for a in match:\n",
    "        a = a.split('=')[1]\n",
    "        try:\n",
    "            a = ast.literal_eval(a)\n",
    "            a = avg(a)\n",
    "            if(int(a) == a):\n",
    "                results.append(int(a))\n",
    "            else:\n",
    "                results.append(round(a,2))\n",
    "        except:\n",
    "            flag=1\n",
    "            print(\"ERROR\")\n",
    "            \n",
    "    if(flag==0):        \n",
    "        for i in results:\n",
    "            print(i, end=' ')\n",
    "        print('')    \n",
    "else:  \n",
    "    print(\"ERROR\")"
   ]
  },
  {
   "cell_type": "code",
   "execution_count": 4,
   "metadata": {},
   "outputs": [],
   "source": [
    "def avg(arr):\n",
    "    \n",
    "    if(type(arr) == int or type(arr) == float):\n",
    "        return arr;\n",
    "   \n",
    "    lis = []; \n",
    "    \n",
    "    for i in arr:\n",
    "        \n",
    "        if(type(i) == int or type(i) == float):\n",
    "            lis.append(i)\n",
    "        else:\n",
    "            lis.append(avg(i))\n",
    "            \n",
    "    if(len(lis)==0):\n",
    "        return 0\n",
    "    \n",
    "    return sum(lis)/len(lis)        "
   ]
  },
  {
   "cell_type": "code",
   "execution_count": 277,
   "metadata": {},
   "outputs": [
    {
     "data": {
      "text/plain": [
       "1"
      ]
     },
     "execution_count": 277,
     "metadata": {},
     "output_type": "execute_result"
    }
   ],
   "source": [
    "a = '1'\n",
    "a = ast.literal_eval(a)\n",
    "avg((a))"
   ]
  },
  {
   "cell_type": "code",
   "execution_count": 49,
   "metadata": {},
   "outputs": [
    {
     "name": "stdout",
     "output_type": "stream",
     "text": [
      "1\n",
      "5\n",
      "0\n",
      "0\n"
     ]
    }
   ],
   "source": [
    "test = int(input())\n",
    "\n",
    "for t in range(test):\n",
    "\n",
    "    m = int(input())\n",
    "    a = []\n",
    "    for i in range(m):\n",
    "        a.append(0)\n",
    "    \n",
    "    for i in range(m):\n",
    "        \n",
    "        x = int(input())\n",
    "        if(x==0):\n",
    "            print(0)\n",
    "            break\n",
    "        if(math.log2(x) == int(math.log2(x))):\n",
    "\n",
    "            x = int(math.log2(x))\n",
    "            \n",
    "            if(a[x]==0):\n",
    "                a[x]=1\n",
    "                \n",
    "                if(i==m-1):\n",
    "                    print(1)\n",
    "            else:\n",
    "                print(0)\n",
    "                break                \n",
    "        else:\n",
    "            print(0)\n",
    "            break"
   ]
  },
  {
   "cell_type": "code",
   "execution_count": 36,
   "metadata": {},
   "outputs": [
    {
     "data": {
      "text/plain": [
       "2.0"
      ]
     },
     "execution_count": 36,
     "metadata": {},
     "output_type": "execute_result"
    }
   ],
   "source": [
    "math.log2(4)"
   ]
  },
  {
   "cell_type": "code",
   "execution_count": 57,
   "metadata": {},
   "outputs": [
    {
     "name": "stdout",
     "output_type": "stream",
     "text": [
      "1\n",
      "4\n",
      "8\n",
      "4\n",
      "2\n",
      "1\n",
      "1\n"
     ]
    }
   ],
   "source": [
    "import math\n",
    "\n",
    "test = int(input())\n",
    "\n",
    "for t in range(test):\n",
    "    \n",
    "    mapping = []\n",
    "    m = int(input())\n",
    "    \n",
    "    for i in range(m):\n",
    "        mapping.append(0)\n",
    "    \n",
    "    for i in range(m):\n",
    "        \n",
    "        x = int(input())\n",
    "        \n",
    "        if(x==0):\n",
    "            print(0)\n",
    "            break\n",
    "        \n",
    "        if(math.log2(x) == int(math.log2(x))):\n",
    "            \n",
    "            x = int(math.log2(x))\n",
    "            \n",
    "            if(mapping[x]==0):\n",
    "                mapping[x] = 1\n",
    "                if(i==m-1):\n",
    "                    print(1)\n",
    "            else:\n",
    "                print(0)\n",
    "                break\n",
    "        \n",
    "        else:\n",
    "            print(0)\n",
    "            break    "
   ]
  },
  {
   "cell_type": "code",
   "execution_count": 58,
   "metadata": {},
   "outputs": [
    {
     "data": {
      "text/plain": [
       "0.0"
      ]
     },
     "execution_count": 58,
     "metadata": {},
     "output_type": "execute_result"
    }
   ],
   "source": [
    "math.log2(1)"
   ]
  },
  {
   "cell_type": "code",
   "execution_count": 98,
   "metadata": {},
   "outputs": [
    {
     "ename": "KeyboardInterrupt",
     "evalue": "",
     "output_type": "error",
     "traceback": [
      "\u001b[0;31m---------------------------------------------------------------------------\u001b[0m",
      "\u001b[0;31mKeyboardInterrupt\u001b[0m                         Traceback (most recent call last)",
      "\u001b[0;32m/usr/local/lib/python3.7/site-packages/ipykernel/kernelbase.py\u001b[0m in \u001b[0;36m_input_request\u001b[0;34m(self, prompt, ident, parent, password)\u001b[0m\n\u001b[1;32m    884\u001b[0m             \u001b[0;32mtry\u001b[0m\u001b[0;34m:\u001b[0m\u001b[0;34m\u001b[0m\u001b[0;34m\u001b[0m\u001b[0m\n\u001b[0;32m--> 885\u001b[0;31m                 \u001b[0mident\u001b[0m\u001b[0;34m,\u001b[0m \u001b[0mreply\u001b[0m \u001b[0;34m=\u001b[0m \u001b[0mself\u001b[0m\u001b[0;34m.\u001b[0m\u001b[0msession\u001b[0m\u001b[0;34m.\u001b[0m\u001b[0mrecv\u001b[0m\u001b[0;34m(\u001b[0m\u001b[0mself\u001b[0m\u001b[0;34m.\u001b[0m\u001b[0mstdin_socket\u001b[0m\u001b[0;34m,\u001b[0m \u001b[0;36m0\u001b[0m\u001b[0;34m)\u001b[0m\u001b[0;34m\u001b[0m\u001b[0;34m\u001b[0m\u001b[0m\n\u001b[0m\u001b[1;32m    886\u001b[0m             \u001b[0;32mexcept\u001b[0m \u001b[0mException\u001b[0m\u001b[0;34m:\u001b[0m\u001b[0;34m\u001b[0m\u001b[0;34m\u001b[0m\u001b[0m\n",
      "\u001b[0;32m/usr/local/lib/python3.7/site-packages/jupyter_client/session.py\u001b[0m in \u001b[0;36mrecv\u001b[0;34m(self, socket, mode, content, copy)\u001b[0m\n\u001b[1;32m    802\u001b[0m         \u001b[0;32mtry\u001b[0m\u001b[0;34m:\u001b[0m\u001b[0;34m\u001b[0m\u001b[0;34m\u001b[0m\u001b[0m\n\u001b[0;32m--> 803\u001b[0;31m             \u001b[0mmsg_list\u001b[0m \u001b[0;34m=\u001b[0m \u001b[0msocket\u001b[0m\u001b[0;34m.\u001b[0m\u001b[0mrecv_multipart\u001b[0m\u001b[0;34m(\u001b[0m\u001b[0mmode\u001b[0m\u001b[0;34m,\u001b[0m \u001b[0mcopy\u001b[0m\u001b[0;34m=\u001b[0m\u001b[0mcopy\u001b[0m\u001b[0;34m)\u001b[0m\u001b[0;34m\u001b[0m\u001b[0;34m\u001b[0m\u001b[0m\n\u001b[0m\u001b[1;32m    804\u001b[0m         \u001b[0;32mexcept\u001b[0m \u001b[0mzmq\u001b[0m\u001b[0;34m.\u001b[0m\u001b[0mZMQError\u001b[0m \u001b[0;32mas\u001b[0m \u001b[0me\u001b[0m\u001b[0;34m:\u001b[0m\u001b[0;34m\u001b[0m\u001b[0;34m\u001b[0m\u001b[0m\n",
      "\u001b[0;32m/usr/local/lib/python3.7/site-packages/zmq/sugar/socket.py\u001b[0m in \u001b[0;36mrecv_multipart\u001b[0;34m(self, flags, copy, track)\u001b[0m\n\u001b[1;32m    469\u001b[0m         \"\"\"\n\u001b[0;32m--> 470\u001b[0;31m         \u001b[0mparts\u001b[0m \u001b[0;34m=\u001b[0m \u001b[0;34m[\u001b[0m\u001b[0mself\u001b[0m\u001b[0;34m.\u001b[0m\u001b[0mrecv\u001b[0m\u001b[0;34m(\u001b[0m\u001b[0mflags\u001b[0m\u001b[0;34m,\u001b[0m \u001b[0mcopy\u001b[0m\u001b[0;34m=\u001b[0m\u001b[0mcopy\u001b[0m\u001b[0;34m,\u001b[0m \u001b[0mtrack\u001b[0m\u001b[0;34m=\u001b[0m\u001b[0mtrack\u001b[0m\u001b[0;34m)\u001b[0m\u001b[0;34m]\u001b[0m\u001b[0;34m\u001b[0m\u001b[0;34m\u001b[0m\u001b[0m\n\u001b[0m\u001b[1;32m    471\u001b[0m         \u001b[0;31m# have first part already, only loop while more to receive\u001b[0m\u001b[0;34m\u001b[0m\u001b[0;34m\u001b[0m\u001b[0;34m\u001b[0m\u001b[0m\n",
      "\u001b[0;32mzmq/backend/cython/socket.pyx\u001b[0m in \u001b[0;36mzmq.backend.cython.socket.Socket.recv\u001b[0;34m()\u001b[0m\n",
      "\u001b[0;32mzmq/backend/cython/socket.pyx\u001b[0m in \u001b[0;36mzmq.backend.cython.socket.Socket.recv\u001b[0;34m()\u001b[0m\n",
      "\u001b[0;32mzmq/backend/cython/socket.pyx\u001b[0m in \u001b[0;36mzmq.backend.cython.socket._recv_copy\u001b[0;34m()\u001b[0m\n",
      "\u001b[0;32m/usr/local/lib/python3.7/site-packages/zmq/backend/cython/checkrc.pxd\u001b[0m in \u001b[0;36mzmq.backend.cython.checkrc._check_rc\u001b[0;34m()\u001b[0m\n",
      "\u001b[0;31mKeyboardInterrupt\u001b[0m: ",
      "\nDuring handling of the above exception, another exception occurred:\n",
      "\u001b[0;31mKeyboardInterrupt\u001b[0m                         Traceback (most recent call last)",
      "\u001b[0;32m<ipython-input-98-55b192a986b9>\u001b[0m in \u001b[0;36m<module>\u001b[0;34m\u001b[0m\n\u001b[1;32m     21\u001b[0m     \u001b[0;32mreturn\u001b[0m \u001b[0msum\u001b[0m\u001b[0;34m(\u001b[0m\u001b[0mlis\u001b[0m\u001b[0;34m)\u001b[0m\u001b[0;34m/\u001b[0m\u001b[0mlen\u001b[0m\u001b[0;34m(\u001b[0m\u001b[0mlis\u001b[0m\u001b[0;34m)\u001b[0m\u001b[0;34m\u001b[0m\u001b[0;34m\u001b[0m\u001b[0m\n\u001b[1;32m     22\u001b[0m \u001b[0;34m\u001b[0m\u001b[0m\n\u001b[0;32m---> 23\u001b[0;31m \u001b[0mtest\u001b[0m \u001b[0;34m=\u001b[0m \u001b[0mint\u001b[0m\u001b[0;34m(\u001b[0m\u001b[0minput\u001b[0m\u001b[0;34m(\u001b[0m\u001b[0;34m)\u001b[0m\u001b[0;34m)\u001b[0m\u001b[0;34m\u001b[0m\u001b[0;34m\u001b[0m\u001b[0m\n\u001b[0m\u001b[1;32m     24\u001b[0m \u001b[0;34m\u001b[0m\u001b[0m\n\u001b[1;32m     25\u001b[0m \u001b[0;32mfor\u001b[0m \u001b[0mt\u001b[0m \u001b[0;32min\u001b[0m \u001b[0mrange\u001b[0m\u001b[0;34m(\u001b[0m\u001b[0mtest\u001b[0m\u001b[0;34m)\u001b[0m\u001b[0;34m:\u001b[0m\u001b[0;34m\u001b[0m\u001b[0;34m\u001b[0m\u001b[0m\n",
      "\u001b[0;32m/usr/local/lib/python3.7/site-packages/ipykernel/kernelbase.py\u001b[0m in \u001b[0;36mraw_input\u001b[0;34m(self, prompt)\u001b[0m\n\u001b[1;32m    858\u001b[0m             \u001b[0mself\u001b[0m\u001b[0;34m.\u001b[0m\u001b[0m_parent_ident\u001b[0m\u001b[0;34m,\u001b[0m\u001b[0;34m\u001b[0m\u001b[0;34m\u001b[0m\u001b[0m\n\u001b[1;32m    859\u001b[0m             \u001b[0mself\u001b[0m\u001b[0;34m.\u001b[0m\u001b[0m_parent_header\u001b[0m\u001b[0;34m,\u001b[0m\u001b[0;34m\u001b[0m\u001b[0;34m\u001b[0m\u001b[0m\n\u001b[0;32m--> 860\u001b[0;31m             \u001b[0mpassword\u001b[0m\u001b[0;34m=\u001b[0m\u001b[0;32mFalse\u001b[0m\u001b[0;34m,\u001b[0m\u001b[0;34m\u001b[0m\u001b[0;34m\u001b[0m\u001b[0m\n\u001b[0m\u001b[1;32m    861\u001b[0m         )\n\u001b[1;32m    862\u001b[0m \u001b[0;34m\u001b[0m\u001b[0m\n",
      "\u001b[0;32m/usr/local/lib/python3.7/site-packages/ipykernel/kernelbase.py\u001b[0m in \u001b[0;36m_input_request\u001b[0;34m(self, prompt, ident, parent, password)\u001b[0m\n\u001b[1;32m    888\u001b[0m             \u001b[0;32mexcept\u001b[0m \u001b[0mKeyboardInterrupt\u001b[0m\u001b[0;34m:\u001b[0m\u001b[0;34m\u001b[0m\u001b[0;34m\u001b[0m\u001b[0m\n\u001b[1;32m    889\u001b[0m                 \u001b[0;31m# re-raise KeyboardInterrupt, to truncate traceback\u001b[0m\u001b[0;34m\u001b[0m\u001b[0;34m\u001b[0m\u001b[0;34m\u001b[0m\u001b[0m\n\u001b[0;32m--> 890\u001b[0;31m                 \u001b[0;32mraise\u001b[0m \u001b[0mKeyboardInterrupt\u001b[0m\u001b[0;34m\u001b[0m\u001b[0;34m\u001b[0m\u001b[0m\n\u001b[0m\u001b[1;32m    891\u001b[0m             \u001b[0;32melse\u001b[0m\u001b[0;34m:\u001b[0m\u001b[0;34m\u001b[0m\u001b[0;34m\u001b[0m\u001b[0m\n\u001b[1;32m    892\u001b[0m                 \u001b[0;32mbreak\u001b[0m\u001b[0;34m\u001b[0m\u001b[0;34m\u001b[0m\u001b[0m\n",
      "\u001b[0;31mKeyboardInterrupt\u001b[0m: "
     ]
    }
   ],
   "source": [
    "import re\n",
    "import ast\n",
    "    \n",
    "def avg(arr):\n",
    "    \n",
    "    if(type(arr) == int or type(arr) == float):\n",
    "        return arr;\n",
    "   \n",
    "    lis = []; \n",
    "    \n",
    "    for i in arr:\n",
    "        \n",
    "        if(type(i) == int or type(i) == float):\n",
    "            lis.append(i)\n",
    "        else:\n",
    "            lis.append(avg(i))\n",
    "            \n",
    "    if(len(lis)==0):\n",
    "        return 0\n",
    "    \n",
    "    return sum(lis)/len(lis)            \n",
    "    \n",
    "test = int(input())    \n",
    "    \n",
    "for t in range(test):\n",
    "    \n",
    "    inp = input()\n",
    "    \n",
    "    pattern = re.compile(r'--[a-zA-Z0-9]+=[\\[\\]0-9,.]+')\n",
    "\n",
    "    match = pattern.findall(inp)\n",
    "\n",
    "    length = len(inp)+1\n",
    "\n",
    "    for j in match:\n",
    "        length -= len(j)+1\n",
    "    \n",
    "    if(length==0):\n",
    "    \n",
    "        flag=0\n",
    "        results = []\n",
    "    \n",
    "        for a in match:\n",
    "            a = a.split('=')[1]\n",
    "            if(',' in a and '[' not in a):\n",
    "                flag=1\n",
    "                print(\"ERROR\")\n",
    "                break\n",
    "        try:\n",
    "            a = ast.literal_eval(a)\n",
    "            a = avg(a)\n",
    "            if(int(a) == a):\n",
    "                results.append(int(a))\n",
    "            else:\n",
    "                results.append(round(a,2))\n",
    "        except:\n",
    "            flag=1\n",
    "            print(\"ERROR\")\n",
    "            \n",
    "        if(flag==0):        \n",
    "            for i in results:\n",
    "                print(i, end=' ')\n",
    "            print('')    \n",
    "    else:  \n",
    "        print(\"ERROR\")"
   ]
  },
  {
   "cell_type": "code",
   "execution_count": 99,
   "metadata": {},
   "outputs": [
    {
     "ename": "KeyboardInterrupt",
     "evalue": "",
     "output_type": "error",
     "traceback": [
      "\u001b[0;31m---------------------------------------------------------------------------\u001b[0m",
      "\u001b[0;31mKeyboardInterrupt\u001b[0m                         Traceback (most recent call last)",
      "\u001b[0;32m/usr/local/lib/python3.7/site-packages/ipykernel/kernelbase.py\u001b[0m in \u001b[0;36m_input_request\u001b[0;34m(self, prompt, ident, parent, password)\u001b[0m\n\u001b[1;32m    884\u001b[0m             \u001b[0;32mtry\u001b[0m\u001b[0;34m:\u001b[0m\u001b[0;34m\u001b[0m\u001b[0;34m\u001b[0m\u001b[0m\n\u001b[0;32m--> 885\u001b[0;31m                 \u001b[0mident\u001b[0m\u001b[0;34m,\u001b[0m \u001b[0mreply\u001b[0m \u001b[0;34m=\u001b[0m \u001b[0mself\u001b[0m\u001b[0;34m.\u001b[0m\u001b[0msession\u001b[0m\u001b[0;34m.\u001b[0m\u001b[0mrecv\u001b[0m\u001b[0;34m(\u001b[0m\u001b[0mself\u001b[0m\u001b[0;34m.\u001b[0m\u001b[0mstdin_socket\u001b[0m\u001b[0;34m,\u001b[0m \u001b[0;36m0\u001b[0m\u001b[0;34m)\u001b[0m\u001b[0;34m\u001b[0m\u001b[0;34m\u001b[0m\u001b[0m\n\u001b[0m\u001b[1;32m    886\u001b[0m             \u001b[0;32mexcept\u001b[0m \u001b[0mException\u001b[0m\u001b[0;34m:\u001b[0m\u001b[0;34m\u001b[0m\u001b[0;34m\u001b[0m\u001b[0m\n",
      "\u001b[0;32m/usr/local/lib/python3.7/site-packages/jupyter_client/session.py\u001b[0m in \u001b[0;36mrecv\u001b[0;34m(self, socket, mode, content, copy)\u001b[0m\n\u001b[1;32m    802\u001b[0m         \u001b[0;32mtry\u001b[0m\u001b[0;34m:\u001b[0m\u001b[0;34m\u001b[0m\u001b[0;34m\u001b[0m\u001b[0m\n\u001b[0;32m--> 803\u001b[0;31m             \u001b[0mmsg_list\u001b[0m \u001b[0;34m=\u001b[0m \u001b[0msocket\u001b[0m\u001b[0;34m.\u001b[0m\u001b[0mrecv_multipart\u001b[0m\u001b[0;34m(\u001b[0m\u001b[0mmode\u001b[0m\u001b[0;34m,\u001b[0m \u001b[0mcopy\u001b[0m\u001b[0;34m=\u001b[0m\u001b[0mcopy\u001b[0m\u001b[0;34m)\u001b[0m\u001b[0;34m\u001b[0m\u001b[0;34m\u001b[0m\u001b[0m\n\u001b[0m\u001b[1;32m    804\u001b[0m         \u001b[0;32mexcept\u001b[0m \u001b[0mzmq\u001b[0m\u001b[0;34m.\u001b[0m\u001b[0mZMQError\u001b[0m \u001b[0;32mas\u001b[0m \u001b[0me\u001b[0m\u001b[0;34m:\u001b[0m\u001b[0;34m\u001b[0m\u001b[0;34m\u001b[0m\u001b[0m\n",
      "\u001b[0;32m/usr/local/lib/python3.7/site-packages/zmq/sugar/socket.py\u001b[0m in \u001b[0;36mrecv_multipart\u001b[0;34m(self, flags, copy, track)\u001b[0m\n\u001b[1;32m    469\u001b[0m         \"\"\"\n\u001b[0;32m--> 470\u001b[0;31m         \u001b[0mparts\u001b[0m \u001b[0;34m=\u001b[0m \u001b[0;34m[\u001b[0m\u001b[0mself\u001b[0m\u001b[0;34m.\u001b[0m\u001b[0mrecv\u001b[0m\u001b[0;34m(\u001b[0m\u001b[0mflags\u001b[0m\u001b[0;34m,\u001b[0m \u001b[0mcopy\u001b[0m\u001b[0;34m=\u001b[0m\u001b[0mcopy\u001b[0m\u001b[0;34m,\u001b[0m \u001b[0mtrack\u001b[0m\u001b[0;34m=\u001b[0m\u001b[0mtrack\u001b[0m\u001b[0;34m)\u001b[0m\u001b[0;34m]\u001b[0m\u001b[0;34m\u001b[0m\u001b[0;34m\u001b[0m\u001b[0m\n\u001b[0m\u001b[1;32m    471\u001b[0m         \u001b[0;31m# have first part already, only loop while more to receive\u001b[0m\u001b[0;34m\u001b[0m\u001b[0;34m\u001b[0m\u001b[0;34m\u001b[0m\u001b[0m\n",
      "\u001b[0;32mzmq/backend/cython/socket.pyx\u001b[0m in \u001b[0;36mzmq.backend.cython.socket.Socket.recv\u001b[0;34m()\u001b[0m\n",
      "\u001b[0;32mzmq/backend/cython/socket.pyx\u001b[0m in \u001b[0;36mzmq.backend.cython.socket.Socket.recv\u001b[0;34m()\u001b[0m\n",
      "\u001b[0;32mzmq/backend/cython/socket.pyx\u001b[0m in \u001b[0;36mzmq.backend.cython.socket._recv_copy\u001b[0;34m()\u001b[0m\n",
      "\u001b[0;32m/usr/local/lib/python3.7/site-packages/zmq/backend/cython/checkrc.pxd\u001b[0m in \u001b[0;36mzmq.backend.cython.checkrc._check_rc\u001b[0;34m()\u001b[0m\n",
      "\u001b[0;31mKeyboardInterrupt\u001b[0m: ",
      "\nDuring handling of the above exception, another exception occurred:\n",
      "\u001b[0;31mKeyboardInterrupt\u001b[0m                         Traceback (most recent call last)",
      "\u001b[0;32m<ipython-input-99-a4a999fe5eed>\u001b[0m in \u001b[0;36m<module>\u001b[0;34m\u001b[0m\n\u001b[1;32m     21\u001b[0m     \u001b[0;32mreturn\u001b[0m \u001b[0msum\u001b[0m\u001b[0;34m(\u001b[0m\u001b[0mlis\u001b[0m\u001b[0;34m)\u001b[0m\u001b[0;34m/\u001b[0m\u001b[0mlen\u001b[0m\u001b[0;34m(\u001b[0m\u001b[0mlis\u001b[0m\u001b[0;34m)\u001b[0m\u001b[0;34m\u001b[0m\u001b[0;34m\u001b[0m\u001b[0m\n\u001b[1;32m     22\u001b[0m \u001b[0;34m\u001b[0m\u001b[0m\n\u001b[0;32m---> 23\u001b[0;31m \u001b[0mtest\u001b[0m \u001b[0;34m=\u001b[0m \u001b[0mint\u001b[0m\u001b[0;34m(\u001b[0m\u001b[0minput\u001b[0m\u001b[0;34m(\u001b[0m\u001b[0;34m)\u001b[0m\u001b[0;34m)\u001b[0m\u001b[0;34m\u001b[0m\u001b[0;34m\u001b[0m\u001b[0m\n\u001b[0m\u001b[1;32m     24\u001b[0m \u001b[0;34m\u001b[0m\u001b[0m\n\u001b[1;32m     25\u001b[0m \u001b[0;32mfor\u001b[0m \u001b[0mt\u001b[0m \u001b[0;32min\u001b[0m \u001b[0mrange\u001b[0m\u001b[0;34m(\u001b[0m\u001b[0mtest\u001b[0m\u001b[0;34m)\u001b[0m\u001b[0;34m:\u001b[0m\u001b[0;34m\u001b[0m\u001b[0;34m\u001b[0m\u001b[0m\n",
      "\u001b[0;32m/usr/local/lib/python3.7/site-packages/ipykernel/kernelbase.py\u001b[0m in \u001b[0;36mraw_input\u001b[0;34m(self, prompt)\u001b[0m\n\u001b[1;32m    858\u001b[0m             \u001b[0mself\u001b[0m\u001b[0;34m.\u001b[0m\u001b[0m_parent_ident\u001b[0m\u001b[0;34m,\u001b[0m\u001b[0;34m\u001b[0m\u001b[0;34m\u001b[0m\u001b[0m\n\u001b[1;32m    859\u001b[0m             \u001b[0mself\u001b[0m\u001b[0;34m.\u001b[0m\u001b[0m_parent_header\u001b[0m\u001b[0;34m,\u001b[0m\u001b[0;34m\u001b[0m\u001b[0;34m\u001b[0m\u001b[0m\n\u001b[0;32m--> 860\u001b[0;31m             \u001b[0mpassword\u001b[0m\u001b[0;34m=\u001b[0m\u001b[0;32mFalse\u001b[0m\u001b[0;34m,\u001b[0m\u001b[0;34m\u001b[0m\u001b[0;34m\u001b[0m\u001b[0m\n\u001b[0m\u001b[1;32m    861\u001b[0m         )\n\u001b[1;32m    862\u001b[0m \u001b[0;34m\u001b[0m\u001b[0m\n",
      "\u001b[0;32m/usr/local/lib/python3.7/site-packages/ipykernel/kernelbase.py\u001b[0m in \u001b[0;36m_input_request\u001b[0;34m(self, prompt, ident, parent, password)\u001b[0m\n\u001b[1;32m    888\u001b[0m             \u001b[0;32mexcept\u001b[0m \u001b[0mKeyboardInterrupt\u001b[0m\u001b[0;34m:\u001b[0m\u001b[0;34m\u001b[0m\u001b[0;34m\u001b[0m\u001b[0m\n\u001b[1;32m    889\u001b[0m                 \u001b[0;31m# re-raise KeyboardInterrupt, to truncate traceback\u001b[0m\u001b[0;34m\u001b[0m\u001b[0;34m\u001b[0m\u001b[0;34m\u001b[0m\u001b[0m\n\u001b[0;32m--> 890\u001b[0;31m                 \u001b[0;32mraise\u001b[0m \u001b[0mKeyboardInterrupt\u001b[0m\u001b[0;34m\u001b[0m\u001b[0;34m\u001b[0m\u001b[0m\n\u001b[0m\u001b[1;32m    891\u001b[0m             \u001b[0;32melse\u001b[0m\u001b[0;34m:\u001b[0m\u001b[0;34m\u001b[0m\u001b[0;34m\u001b[0m\u001b[0m\n\u001b[1;32m    892\u001b[0m                 \u001b[0;32mbreak\u001b[0m\u001b[0;34m\u001b[0m\u001b[0;34m\u001b[0m\u001b[0m\n",
      "\u001b[0;31mKeyboardInterrupt\u001b[0m: "
     ]
    }
   ],
   "source": [
    "import re\n",
    "import ast\n",
    "    \n",
    "def avg(arr):\n",
    "    \n",
    "    if(type(arr) == int or type(arr) == float):\n",
    "        return arr;\n",
    "   \n",
    "    lis = [];\n",
    "    \n",
    "    for i in arr:\n",
    "        \n",
    "        if(type(i) == int or type(i) == float):\n",
    "            lis.append(i)\n",
    "        else:\n",
    "            lis.append(avg(i))\n",
    "            \n",
    "    if(len(lis)==0):\n",
    "        return 0\n",
    "    \n",
    "    return sum(lis)/len(lis)            \n",
    "    \n",
    "test = int(input())    \n",
    "    \n",
    "for t in range(test):\n",
    "    \n",
    "    inp = input()\n",
    "    \n",
    "    pattern = re.compile(r'--[a-zA-Z0-9]+=[\\[\\]0-9,.]+')\n",
    "\n",
    "    match = pattern.findall(inp)\n",
    "\n",
    "    length = len(inp)+1\n",
    "\n",
    "    for j in match:\n",
    "        length -= len(j)+1\n",
    "    \n",
    "    if(length==0):\n",
    "    \n",
    "        flag=0\n",
    "        results = []\n",
    "    \n",
    "        for a in match:\n",
    "            a = a.split('=')[1]\n",
    "            try:\n",
    "                a = ast.literal_eval(a)\n",
    "                a = avg(a)\n",
    "                if(int(a) == a):\n",
    "                    results.append(int(a))\n",
    "                else:\n",
    "                    results.append(round(a,2))\n",
    "            except:\n",
    "                flag=1\n",
    "                print(\"ERROR\")\n",
    "            \n",
    "        if(flag==0):        \n",
    "            for i in results:\n",
    "                print(i, end=' ')\n",
    "            print('')    \n",
    "    else:  \n",
    "        print(\"ERROR\")"
   ]
  },
  {
   "cell_type": "code",
   "execution_count": 101,
   "metadata": {},
   "outputs": [
    {
     "name": "stdout",
     "output_type": "stream",
     "text": [
      "2 4 3.17 \n"
     ]
    }
   ],
   "source": [
    "import re\n",
    "import ast\n",
    "    \n",
    "def avg(arr):\n",
    "    \n",
    "    if(type(arr) == int or type(arr) == float):\n",
    "        return arr;\n",
    "   \n",
    "    lis = [];\n",
    "    \n",
    "    for i in arr:\n",
    "        \n",
    "        if(type(i) == int or type(i) == float):\n",
    "            lis.append(i)\n",
    "        else:\n",
    "            lis.append(avg(i))\n",
    "            \n",
    "    if(len(lis)==0):\n",
    "        return 0\n",
    "    \n",
    "    return sum(lis)/len(lis)            \n",
    "    \n",
    "test = 1    \n",
    "    \n",
    "for t in range(test):\n",
    "    \n",
    "    inp = \"--a=2.0 --a3=4.0 --e2=[3,[3,4,3]]\"\n",
    "    \n",
    "    pattern = re.compile(r'--[a-zA-Z0-9]+=[\\[\\]0-9,.]+')\n",
    "\n",
    "    match = pattern.findall(inp)\n",
    "\n",
    "    length = len(inp)+1\n",
    "\n",
    "    for j in match:\n",
    "        length -= len(j)+1\n",
    "    \n",
    "    if(length==0):\n",
    "    \n",
    "        flag=0\n",
    "        results = []\n",
    "    \n",
    "        for a in match:\n",
    "            a = a.split('=')[1]\n",
    "            try:\n",
    "                a = ast.literal_eval(a)\n",
    "                a = avg(a)\n",
    "                if(int(a) == a):\n",
    "                    results.append(int(a))\n",
    "                else:\n",
    "                    results.append(round(a,2))\n",
    "            except:\n",
    "                flag=1\n",
    "                print(\"ERROR\")\n",
    "            \n",
    "        if(flag==0):        \n",
    "            for i in results:\n",
    "                print(i, end=' ')\n",
    "            print('')    \n",
    "    else:  \n",
    "        print(\"ERROR\")"
   ]
  },
  {
   "cell_type": "code",
   "execution_count": 133,
   "metadata": {},
   "outputs": [
    {
     "name": "stdout",
     "output_type": "stream",
     "text": [
      "4\n",
      "--a=2.0 --a3=4.0 --e2=[3,[3,4,3]]\n",
      "2 4 3.17 \n",
      " --a=2.0 --a3=4.0 --e2=[3,[3,4,3]]\n",
      "2 4 3.17 \n",
      "   --a=2.0 --a3=4.0 --e2=[3,[3,4,3]] \n",
      "2 4 3.17 \n",
      "--a=2.0 --a 3=4.0 --e2=[3,[3,4,3]]\n",
      "ERROR\n"
     ]
    }
   ],
   "source": [
    "import re\n",
    "import ast\n",
    "    \n",
    "def avg(arr):\n",
    "    \n",
    "    if(type(arr) == int or type(arr) == float):\n",
    "        return arr;\n",
    "   \n",
    "    lis = [];\n",
    "    \n",
    "    for i in arr:\n",
    "        \n",
    "        if(type(i) == int or type(i) == float):\n",
    "            lis.append(i)\n",
    "        else:\n",
    "            lis.append(avg(i))\n",
    "            \n",
    "    if(len(lis)==0):\n",
    "        return 0\n",
    "    \n",
    "    return sum(lis)/len(lis)            \n",
    "    \n",
    "test = int(input())    \n",
    "    \n",
    "for t in range(test):\n",
    "    \n",
    "    inp = input()\n",
    "    while(inp[0] == ' '):\n",
    "        inp = inp[1:]\n",
    "    \n",
    "    pattern = re.compile(r'--[a-zA-Z0-9]+=[\\[\\]0-9,.]+\\s?')\n",
    "\n",
    "    match = pattern.findall(inp)\n",
    "\n",
    "    length = len(inp)\n",
    "\n",
    "    for j in match:\n",
    "        length -= len(j)\n",
    "    \n",
    "    if(length==0):\n",
    "    \n",
    "        flag=0\n",
    "        results = []\n",
    "    \n",
    "        for a in match:\n",
    "            a = a.split('=')[1]\n",
    "            a = a.replace(' ', '')\n",
    "            try:\n",
    "                a = ast.literal_eval(a)\n",
    "                a = avg(a)\n",
    "                if(int(a) == a):\n",
    "                    results.append(int(a))\n",
    "                else:\n",
    "                    results.append(round(a,2))\n",
    "            except:\n",
    "                flag=1\n",
    "                print(\"ERROR\")\n",
    "            \n",
    "        if(flag==0):        \n",
    "            for i in results:\n",
    "                print(i, end=' ')\n",
    "            print('')    \n",
    "    else:  \n",
    "        print(\"ERROR\")"
   ]
  },
  {
   "cell_type": "code",
   "execution_count": 107,
   "metadata": {},
   "outputs": [],
   "source": [
    "a = ' asd as d' "
   ]
  },
  {
   "cell_type": "code",
   "execution_count": 108,
   "metadata": {},
   "outputs": [
    {
     "data": {
      "text/plain": [
       "3"
      ]
     },
     "execution_count": 108,
     "metadata": {},
     "output_type": "execute_result"
    }
   ],
   "source": [
    "a.count(' ')"
   ]
  },
  {
   "cell_type": "code",
   "execution_count": null,
   "metadata": {},
   "outputs": [],
   "source": [
    "--a=2.0 --a3=4.0 --e2=[3,[3,4,3]]"
   ]
  },
  {
   "cell_type": "code",
   "execution_count": 131,
   "metadata": {},
   "outputs": [],
   "source": [
    "a = [1,2,3]"
   ]
  },
  {
   "cell_type": "code",
   "execution_count": 132,
   "metadata": {},
   "outputs": [
    {
     "data": {
      "text/plain": [
       "[2, 3]"
      ]
     },
     "execution_count": 132,
     "metadata": {},
     "output_type": "execute_result"
    }
   ],
   "source": [
    "a[1:]"
   ]
  },
  {
   "cell_type": "code",
   "execution_count": 134,
   "metadata": {},
   "outputs": [
    {
     "name": "stdout",
     "output_type": "stream",
     "text": [
      "2\n",
      "--a=2.0 --a3=4.0 --e2=[3,[3,4,3]]\n",
      "2 4 3.17 \n",
      "--a=2.0 --a3=4.0 --e2=[3,[3,4,]]\n",
      "2 4 3.25 \n"
     ]
    }
   ],
   "source": [
    "import re\n",
    "import ast\n",
    "    \n",
    "def avg(arr):\n",
    "    \n",
    "    if(type(arr) == int or type(arr) == float):\n",
    "        return arr;\n",
    "   \n",
    "    lis = [];\n",
    "    \n",
    "    for i in arr:\n",
    "        \n",
    "        if(type(i) == int or type(i) == float):\n",
    "            lis.append(i)\n",
    "        else:\n",
    "            lis.append(avg(i))\n",
    "            \n",
    "    if(len(lis)==0):\n",
    "        return 0\n",
    "    \n",
    "    return sum(lis)/len(lis)            \n",
    "    \n",
    "test = int(input())    \n",
    "    \n",
    "for t in range(test):\n",
    "    \n",
    "    inp = input()\n",
    "    \n",
    "    pattern = re.compile(r'--[a-zA-Z0-9]+=[\\[\\]0-9,.]+')\n",
    "\n",
    "    match = pattern.findall(inp)\n",
    "\n",
    "    length = len(inp)+1\n",
    "\n",
    "    for j in match:\n",
    "        length -= len(j)+1\n",
    "    \n",
    "    if(length==0):\n",
    "    \n",
    "        flag=0\n",
    "        results = []\n",
    "    \n",
    "        for a in match:\n",
    "            a = a.split('=')[1]\n",
    "            try:\n",
    "                a = ast.literal_eval(a)\n",
    "                a = avg(a)\n",
    "                if(int(a) == a):\n",
    "                    results.append(int(a))\n",
    "                else:\n",
    "                    results.append(round(a,2))\n",
    "            except:\n",
    "                flag=1\n",
    "                print(\"ERROR\")\n",
    "            \n",
    "        if(flag==0):        \n",
    "            for i in results:\n",
    "                print(i, end=' ')\n",
    "            print('')    \n",
    "    else:  \n",
    "        print(\"ERROR\")"
   ]
  },
  {
   "cell_type": "code",
   "execution_count": null,
   "metadata": {},
   "outputs": [],
   "source": [
    "--a=2.0 --a3=4.0 --e2=[3,[3,4,3]]"
   ]
  }
 ],
 "metadata": {
  "kernelspec": {
   "display_name": "Python 3",
   "language": "python",
   "name": "python3"
  },
  "language_info": {
   "codemirror_mode": {
    "name": "ipython",
    "version": 3
   },
   "file_extension": ".py",
   "mimetype": "text/x-python",
   "name": "python",
   "nbconvert_exporter": "python",
   "pygments_lexer": "ipython3",
   "version": "3.7.3"
  }
 },
 "nbformat": 4,
 "nbformat_minor": 2
}
