{
 "cells": [
  {
   "cell_type": "code",
   "execution_count": 1,
   "metadata": {},
   "outputs": [],
   "source": [
    "import re"
   ]
  },
  {
   "cell_type": "code",
   "execution_count": 57,
   "metadata": {},
   "outputs": [],
   "source": [
    "text = ''' \n",
    "          hello, how are you.\n",
    "          Yes, I am good.\n",
    "          \n",
    "          This is my number: 9816923811\n",
    "          and my mail is: shivajbd@gmail.com\n",
    "          \n",
    "          these are metacharacter: _ * & # . ? ^\n",
    "          these are white space \\n \\t\n",
    "          \n",
    "          Thats encoug i think.\n",
    "\n",
    "       '''"
   ]
  },
  {
   "cell_type": "code",
   "execution_count": 61,
   "metadata": {},
   "outputs": [
    {
     "name": "stdout",
     "output_type": "stream",
     "text": [
      "<re.Match object; span=(12, 17), match='hello'>\n"
     ]
    }
   ],
   "source": [
    "pattern = re.compile(r'hello')    # simple text\n",
    "\n",
    "matches = pattern.finditer(text)\n",
    "for i in matches: \n",
    "    print(i)"
   ]
  },
  {
   "cell_type": "code",
   "execution_count": 62,
   "metadata": {},
   "outputs": [
    {
     "name": "stdout",
     "output_type": "stream",
     "text": [
      "<re.Match object; span=(144, 153), match='gmail.com'>\n"
     ]
    }
   ],
   "source": [
    "pattern = re.compile(r'gmail\\.com')    # escaping the special character [\\.]\n",
    "\n",
    "matches = pattern.finditer(text)\n",
    "for i in matches: \n",
    "    print(i)"
   ]
  },
  {
   "cell_type": "code",
   "execution_count": 70,
   "metadata": {},
   "outputs": [
    {
     "name": "stdout",
     "output_type": "stream",
     "text": [
      "<re.Match object; span=(98, 99), match='9'>\n",
      "<re.Match object; span=(99, 100), match='8'>\n",
      "<re.Match object; span=(100, 101), match='1'>\n",
      "<re.Match object; span=(101, 102), match='6'>\n",
      "<re.Match object; span=(102, 103), match='9'>\n",
      "<re.Match object; span=(103, 104), match='2'>\n",
      "<re.Match object; span=(104, 105), match='3'>\n",
      "<re.Match object; span=(105, 106), match='8'>\n",
      "<re.Match object; span=(106, 107), match='1'>\n",
      "<re.Match object; span=(107, 108), match='1'>\n"
     ]
    }
   ],
   "source": [
    "pattern = re.compile(r'\\d')    # matching digit, [\\D] for non digit\n",
    "\n",
    "matches = pattern.finditer(text)\n",
    "for i in matches: \n",
    "    print(i)"
   ]
  },
  {
   "cell_type": "code",
   "execution_count": 73,
   "metadata": {},
   "outputs": [
    {
     "name": "stdout",
     "output_type": "stream",
     "text": [
      "<re.Match object; span=(12, 13), match='h'>\n",
      "<re.Match object; span=(13, 14), match='e'>\n",
      "<re.Match object; span=(14, 15), match='l'>\n",
      "<re.Match object; span=(15, 16), match='l'>\n",
      "<re.Match object; span=(16, 17), match='o'>\n",
      "<re.Match object; span=(19, 20), match='h'>\n",
      "<re.Match object; span=(20, 21), match='o'>\n",
      "<re.Match object; span=(21, 22), match='w'>\n",
      "<re.Match object; span=(23, 24), match='a'>\n",
      "<re.Match object; span=(24, 25), match='r'>\n",
      "<re.Match object; span=(25, 26), match='e'>\n",
      "<re.Match object; span=(27, 28), match='y'>\n",
      "<re.Match object; span=(28, 29), match='o'>\n",
      "<re.Match object; span=(29, 30), match='u'>\n",
      "<re.Match object; span=(42, 43), match='Y'>\n",
      "<re.Match object; span=(43, 44), match='e'>\n",
      "<re.Match object; span=(44, 45), match='s'>\n",
      "<re.Match object; span=(47, 48), match='I'>\n",
      "<re.Match object; span=(49, 50), match='a'>\n",
      "<re.Match object; span=(50, 51), match='m'>\n",
      "<re.Match object; span=(52, 53), match='g'>\n",
      "<re.Match object; span=(53, 54), match='o'>\n",
      "<re.Match object; span=(54, 55), match='o'>\n",
      "<re.Match object; span=(55, 56), match='d'>\n",
      "<re.Match object; span=(79, 80), match='T'>\n",
      "<re.Match object; span=(80, 81), match='h'>\n",
      "<re.Match object; span=(81, 82), match='i'>\n",
      "<re.Match object; span=(82, 83), match='s'>\n",
      "<re.Match object; span=(84, 85), match='i'>\n",
      "<re.Match object; span=(85, 86), match='s'>\n",
      "<re.Match object; span=(87, 88), match='m'>\n",
      "<re.Match object; span=(88, 89), match='y'>\n",
      "<re.Match object; span=(90, 91), match='n'>\n",
      "<re.Match object; span=(91, 92), match='u'>\n",
      "<re.Match object; span=(92, 93), match='m'>\n",
      "<re.Match object; span=(93, 94), match='b'>\n",
      "<re.Match object; span=(94, 95), match='e'>\n",
      "<re.Match object; span=(95, 96), match='r'>\n",
      "<re.Match object; span=(98, 99), match='9'>\n",
      "<re.Match object; span=(99, 100), match='8'>\n",
      "<re.Match object; span=(100, 101), match='1'>\n",
      "<re.Match object; span=(101, 102), match='6'>\n",
      "<re.Match object; span=(102, 103), match='9'>\n",
      "<re.Match object; span=(103, 104), match='2'>\n",
      "<re.Match object; span=(104, 105), match='3'>\n",
      "<re.Match object; span=(105, 106), match='8'>\n",
      "<re.Match object; span=(106, 107), match='1'>\n",
      "<re.Match object; span=(107, 108), match='1'>\n",
      "<re.Match object; span=(119, 120), match='a'>\n",
      "<re.Match object; span=(120, 121), match='n'>\n",
      "<re.Match object; span=(121, 122), match='d'>\n",
      "<re.Match object; span=(123, 124), match='m'>\n",
      "<re.Match object; span=(124, 125), match='y'>\n",
      "<re.Match object; span=(126, 127), match='m'>\n",
      "<re.Match object; span=(127, 128), match='a'>\n",
      "<re.Match object; span=(128, 129), match='i'>\n",
      "<re.Match object; span=(129, 130), match='l'>\n",
      "<re.Match object; span=(131, 132), match='i'>\n",
      "<re.Match object; span=(132, 133), match='s'>\n",
      "<re.Match object; span=(135, 136), match='s'>\n",
      "<re.Match object; span=(136, 137), match='h'>\n",
      "<re.Match object; span=(137, 138), match='i'>\n",
      "<re.Match object; span=(138, 139), match='v'>\n",
      "<re.Match object; span=(139, 140), match='a'>\n",
      "<re.Match object; span=(140, 141), match='j'>\n",
      "<re.Match object; span=(141, 142), match='b'>\n",
      "<re.Match object; span=(142, 143), match='d'>\n",
      "<re.Match object; span=(144, 145), match='g'>\n",
      "<re.Match object; span=(145, 146), match='m'>\n",
      "<re.Match object; span=(146, 147), match='a'>\n",
      "<re.Match object; span=(147, 148), match='i'>\n",
      "<re.Match object; span=(148, 149), match='l'>\n",
      "<re.Match object; span=(150, 151), match='c'>\n",
      "<re.Match object; span=(151, 152), match='o'>\n",
      "<re.Match object; span=(152, 153), match='m'>\n",
      "<re.Match object; span=(175, 176), match='t'>\n",
      "<re.Match object; span=(176, 177), match='h'>\n",
      "<re.Match object; span=(177, 178), match='e'>\n",
      "<re.Match object; span=(178, 179), match='s'>\n",
      "<re.Match object; span=(179, 180), match='e'>\n",
      "<re.Match object; span=(181, 182), match='a'>\n",
      "<re.Match object; span=(182, 183), match='r'>\n",
      "<re.Match object; span=(183, 184), match='e'>\n",
      "<re.Match object; span=(185, 186), match='m'>\n",
      "<re.Match object; span=(186, 187), match='e'>\n",
      "<re.Match object; span=(187, 188), match='t'>\n",
      "<re.Match object; span=(188, 189), match='a'>\n",
      "<re.Match object; span=(189, 190), match='c'>\n",
      "<re.Match object; span=(190, 191), match='h'>\n",
      "<re.Match object; span=(191, 192), match='a'>\n",
      "<re.Match object; span=(192, 193), match='r'>\n",
      "<re.Match object; span=(193, 194), match='a'>\n",
      "<re.Match object; span=(194, 195), match='c'>\n",
      "<re.Match object; span=(195, 196), match='t'>\n",
      "<re.Match object; span=(196, 197), match='e'>\n",
      "<re.Match object; span=(197, 198), match='r'>\n",
      "<re.Match object; span=(200, 201), match='_'>\n",
      "<re.Match object; span=(224, 225), match='t'>\n",
      "<re.Match object; span=(225, 226), match='h'>\n",
      "<re.Match object; span=(226, 227), match='e'>\n",
      "<re.Match object; span=(227, 228), match='s'>\n",
      "<re.Match object; span=(228, 229), match='e'>\n",
      "<re.Match object; span=(230, 231), match='a'>\n",
      "<re.Match object; span=(231, 232), match='r'>\n",
      "<re.Match object; span=(232, 233), match='e'>\n",
      "<re.Match object; span=(234, 235), match='w'>\n",
      "<re.Match object; span=(235, 236), match='h'>\n",
      "<re.Match object; span=(236, 237), match='i'>\n",
      "<re.Match object; span=(237, 238), match='t'>\n",
      "<re.Match object; span=(238, 239), match='e'>\n",
      "<re.Match object; span=(240, 241), match='s'>\n",
      "<re.Match object; span=(241, 242), match='p'>\n",
      "<re.Match object; span=(242, 243), match='a'>\n",
      "<re.Match object; span=(243, 244), match='c'>\n",
      "<re.Match object; span=(244, 245), match='e'>\n",
      "<re.Match object; span=(271, 272), match='T'>\n",
      "<re.Match object; span=(272, 273), match='h'>\n",
      "<re.Match object; span=(273, 274), match='a'>\n",
      "<re.Match object; span=(274, 275), match='t'>\n",
      "<re.Match object; span=(275, 276), match='s'>\n",
      "<re.Match object; span=(277, 278), match='e'>\n",
      "<re.Match object; span=(278, 279), match='n'>\n",
      "<re.Match object; span=(279, 280), match='c'>\n",
      "<re.Match object; span=(280, 281), match='o'>\n",
      "<re.Match object; span=(281, 282), match='u'>\n",
      "<re.Match object; span=(282, 283), match='g'>\n",
      "<re.Match object; span=(284, 285), match='i'>\n",
      "<re.Match object; span=(286, 287), match='t'>\n",
      "<re.Match object; span=(287, 288), match='h'>\n",
      "<re.Match object; span=(288, 289), match='i'>\n",
      "<re.Match object; span=(289, 290), match='n'>\n",
      "<re.Match object; span=(290, 291), match='k'>\n"
     ]
    }
   ],
   "source": [
    "pattern = re.compile(r'\\w')    # matching word char, [\\W] for non word char\n",
    "\n",
    "matches = pattern.finditer(text)\n",
    "for i in matches: \n",
    "    print(i)"
   ]
  },
  {
   "cell_type": "code",
   "execution_count": 76,
   "metadata": {},
   "outputs": [
    {
     "name": "stdout",
     "output_type": "stream",
     "text": [
      "<re.Match object; span=(0, 1), match=' '>\n",
      "<re.Match object; span=(1, 2), match='\\n'>\n",
      "<re.Match object; span=(2, 3), match=' '>\n",
      "<re.Match object; span=(3, 4), match=' '>\n",
      "<re.Match object; span=(4, 5), match=' '>\n",
      "<re.Match object; span=(5, 6), match=' '>\n",
      "<re.Match object; span=(6, 7), match=' '>\n",
      "<re.Match object; span=(7, 8), match=' '>\n",
      "<re.Match object; span=(8, 9), match=' '>\n",
      "<re.Match object; span=(9, 10), match=' '>\n",
      "<re.Match object; span=(10, 11), match=' '>\n",
      "<re.Match object; span=(11, 12), match=' '>\n",
      "<re.Match object; span=(18, 19), match=' '>\n",
      "<re.Match object; span=(22, 23), match=' '>\n",
      "<re.Match object; span=(26, 27), match=' '>\n",
      "<re.Match object; span=(31, 32), match='\\n'>\n",
      "<re.Match object; span=(32, 33), match=' '>\n",
      "<re.Match object; span=(33, 34), match=' '>\n",
      "<re.Match object; span=(34, 35), match=' '>\n",
      "<re.Match object; span=(35, 36), match=' '>\n",
      "<re.Match object; span=(36, 37), match=' '>\n",
      "<re.Match object; span=(37, 38), match=' '>\n",
      "<re.Match object; span=(38, 39), match=' '>\n",
      "<re.Match object; span=(39, 40), match=' '>\n",
      "<re.Match object; span=(40, 41), match=' '>\n",
      "<re.Match object; span=(41, 42), match=' '>\n",
      "<re.Match object; span=(46, 47), match=' '>\n",
      "<re.Match object; span=(48, 49), match=' '>\n",
      "<re.Match object; span=(51, 52), match=' '>\n",
      "<re.Match object; span=(57, 58), match='\\n'>\n",
      "<re.Match object; span=(58, 59), match=' '>\n",
      "<re.Match object; span=(59, 60), match=' '>\n",
      "<re.Match object; span=(60, 61), match=' '>\n",
      "<re.Match object; span=(61, 62), match=' '>\n",
      "<re.Match object; span=(62, 63), match=' '>\n",
      "<re.Match object; span=(63, 64), match=' '>\n",
      "<re.Match object; span=(64, 65), match=' '>\n",
      "<re.Match object; span=(65, 66), match=' '>\n",
      "<re.Match object; span=(66, 67), match=' '>\n",
      "<re.Match object; span=(67, 68), match=' '>\n",
      "<re.Match object; span=(68, 69), match='\\n'>\n",
      "<re.Match object; span=(69, 70), match=' '>\n",
      "<re.Match object; span=(70, 71), match=' '>\n",
      "<re.Match object; span=(71, 72), match=' '>\n",
      "<re.Match object; span=(72, 73), match=' '>\n",
      "<re.Match object; span=(73, 74), match=' '>\n",
      "<re.Match object; span=(74, 75), match=' '>\n",
      "<re.Match object; span=(75, 76), match=' '>\n",
      "<re.Match object; span=(76, 77), match=' '>\n",
      "<re.Match object; span=(77, 78), match=' '>\n",
      "<re.Match object; span=(78, 79), match=' '>\n",
      "<re.Match object; span=(83, 84), match=' '>\n",
      "<re.Match object; span=(86, 87), match=' '>\n",
      "<re.Match object; span=(89, 90), match=' '>\n",
      "<re.Match object; span=(97, 98), match=' '>\n",
      "<re.Match object; span=(108, 109), match='\\n'>\n",
      "<re.Match object; span=(109, 110), match=' '>\n",
      "<re.Match object; span=(110, 111), match=' '>\n",
      "<re.Match object; span=(111, 112), match=' '>\n",
      "<re.Match object; span=(112, 113), match=' '>\n",
      "<re.Match object; span=(113, 114), match=' '>\n",
      "<re.Match object; span=(114, 115), match=' '>\n",
      "<re.Match object; span=(115, 116), match=' '>\n",
      "<re.Match object; span=(116, 117), match=' '>\n",
      "<re.Match object; span=(117, 118), match=' '>\n",
      "<re.Match object; span=(118, 119), match=' '>\n",
      "<re.Match object; span=(122, 123), match=' '>\n",
      "<re.Match object; span=(125, 126), match=' '>\n",
      "<re.Match object; span=(130, 131), match=' '>\n",
      "<re.Match object; span=(134, 135), match=' '>\n",
      "<re.Match object; span=(153, 154), match='\\n'>\n",
      "<re.Match object; span=(154, 155), match=' '>\n",
      "<re.Match object; span=(155, 156), match=' '>\n",
      "<re.Match object; span=(156, 157), match=' '>\n",
      "<re.Match object; span=(157, 158), match=' '>\n",
      "<re.Match object; span=(158, 159), match=' '>\n",
      "<re.Match object; span=(159, 160), match=' '>\n",
      "<re.Match object; span=(160, 161), match=' '>\n",
      "<re.Match object; span=(161, 162), match=' '>\n",
      "<re.Match object; span=(162, 163), match=' '>\n",
      "<re.Match object; span=(163, 164), match=' '>\n",
      "<re.Match object; span=(164, 165), match='\\n'>\n",
      "<re.Match object; span=(165, 166), match=' '>\n",
      "<re.Match object; span=(166, 167), match=' '>\n",
      "<re.Match object; span=(167, 168), match=' '>\n",
      "<re.Match object; span=(168, 169), match=' '>\n",
      "<re.Match object; span=(169, 170), match=' '>\n",
      "<re.Match object; span=(170, 171), match=' '>\n",
      "<re.Match object; span=(171, 172), match=' '>\n",
      "<re.Match object; span=(172, 173), match=' '>\n",
      "<re.Match object; span=(173, 174), match=' '>\n",
      "<re.Match object; span=(174, 175), match=' '>\n",
      "<re.Match object; span=(180, 181), match=' '>\n",
      "<re.Match object; span=(184, 185), match=' '>\n",
      "<re.Match object; span=(199, 200), match=' '>\n",
      "<re.Match object; span=(201, 202), match=' '>\n",
      "<re.Match object; span=(203, 204), match=' '>\n",
      "<re.Match object; span=(205, 206), match=' '>\n",
      "<re.Match object; span=(207, 208), match=' '>\n",
      "<re.Match object; span=(209, 210), match=' '>\n",
      "<re.Match object; span=(211, 212), match=' '>\n",
      "<re.Match object; span=(213, 214), match='\\n'>\n",
      "<re.Match object; span=(214, 215), match=' '>\n",
      "<re.Match object; span=(215, 216), match=' '>\n",
      "<re.Match object; span=(216, 217), match=' '>\n",
      "<re.Match object; span=(217, 218), match=' '>\n",
      "<re.Match object; span=(218, 219), match=' '>\n",
      "<re.Match object; span=(219, 220), match=' '>\n",
      "<re.Match object; span=(220, 221), match=' '>\n",
      "<re.Match object; span=(221, 222), match=' '>\n",
      "<re.Match object; span=(222, 223), match=' '>\n",
      "<re.Match object; span=(223, 224), match=' '>\n",
      "<re.Match object; span=(229, 230), match=' '>\n",
      "<re.Match object; span=(233, 234), match=' '>\n",
      "<re.Match object; span=(239, 240), match=' '>\n",
      "<re.Match object; span=(245, 246), match=' '>\n",
      "<re.Match object; span=(246, 247), match='\\n'>\n",
      "<re.Match object; span=(247, 248), match=' '>\n",
      "<re.Match object; span=(248, 249), match='\\t'>\n",
      "<re.Match object; span=(249, 250), match='\\n'>\n",
      "<re.Match object; span=(250, 251), match=' '>\n",
      "<re.Match object; span=(251, 252), match=' '>\n",
      "<re.Match object; span=(252, 253), match=' '>\n",
      "<re.Match object; span=(253, 254), match=' '>\n",
      "<re.Match object; span=(254, 255), match=' '>\n",
      "<re.Match object; span=(255, 256), match=' '>\n",
      "<re.Match object; span=(256, 257), match=' '>\n",
      "<re.Match object; span=(257, 258), match=' '>\n",
      "<re.Match object; span=(258, 259), match=' '>\n",
      "<re.Match object; span=(259, 260), match=' '>\n",
      "<re.Match object; span=(260, 261), match='\\n'>\n",
      "<re.Match object; span=(261, 262), match=' '>\n",
      "<re.Match object; span=(262, 263), match=' '>\n",
      "<re.Match object; span=(263, 264), match=' '>\n",
      "<re.Match object; span=(264, 265), match=' '>\n",
      "<re.Match object; span=(265, 266), match=' '>\n",
      "<re.Match object; span=(266, 267), match=' '>\n",
      "<re.Match object; span=(267, 268), match=' '>\n",
      "<re.Match object; span=(268, 269), match=' '>\n",
      "<re.Match object; span=(269, 270), match=' '>\n",
      "<re.Match object; span=(270, 271), match=' '>\n",
      "<re.Match object; span=(276, 277), match=' '>\n",
      "<re.Match object; span=(283, 284), match=' '>\n",
      "<re.Match object; span=(285, 286), match=' '>\n",
      "<re.Match object; span=(292, 293), match='\\n'>\n",
      "<re.Match object; span=(293, 294), match='\\n'>\n",
      "<re.Match object; span=(294, 295), match=' '>\n",
      "<re.Match object; span=(295, 296), match=' '>\n",
      "<re.Match object; span=(296, 297), match=' '>\n",
      "<re.Match object; span=(297, 298), match=' '>\n",
      "<re.Match object; span=(298, 299), match=' '>\n",
      "<re.Match object; span=(299, 300), match=' '>\n",
      "<re.Match object; span=(300, 301), match=' '>\n"
     ]
    }
   ],
   "source": [
    "pattern = re.compile(r'\\s')    # matching white space, [\\W] for non white space\n",
    "\n",
    "matches = pattern.finditer(text)\n",
    "for i in matches: \n",
    "    print(i)"
   ]
  },
  {
   "cell_type": "code",
   "execution_count": 122,
   "metadata": {},
   "outputs": [],
   "source": [
    "text = ''' \n",
    "          hello, how are you.\n",
    "          Yes, I am good.\n",
    "          \n",
    "          This is my number: 9816923811\n",
    "          and my mail is: shivajbd@gmail.com\n",
    "          \n",
    "          these are metacharacter: _ * & # . ? ^\n",
    "          these are white space \\n \\t\n",
    "          \n",
    "          Thats encoug i think.\n",
    "          \n",
    "          shiva verma\n",
    "       '''"
   ]
  },
  {
   "cell_type": "code",
   "execution_count": 123,
   "metadata": {},
   "outputs": [
    {
     "name": "stdout",
     "output_type": "stream",
     "text": [
      "<re.Match object; span=(135, 137), match='sh'>\n",
      "<re.Match object; span=(314, 316), match='sh'>\n"
     ]
    }
   ],
   "source": [
    "pattern = re.compile(r'\\bsh')    # [sh] is at boundry in start\n",
    "\n",
    "matches = pattern.finditer(text)\n",
    "for i in matches: \n",
    "    print(i)"
   ]
  },
  {
   "cell_type": "code",
   "execution_count": 124,
   "metadata": {},
   "outputs": [
    {
     "name": "stdout",
     "output_type": "stream",
     "text": [
      "<re.Match object; span=(151, 153), match='om'>\n"
     ]
    }
   ],
   "source": [
    "pattern = re.compile(r'\\Bom')    # [sh] is at boundry in end\n",
    "\n",
    "matches = pattern.finditer(text)\n",
    "for i in matches: \n",
    "    print(i)"
   ]
  },
  {
   "cell_type": "code",
   "execution_count": 125,
   "metadata": {},
   "outputs": [],
   "source": [
    "text = '''this is a demo'''"
   ]
  },
  {
   "cell_type": "code",
   "execution_count": 126,
   "metadata": {},
   "outputs": [
    {
     "name": "stdout",
     "output_type": "stream",
     "text": [
      "<re.Match object; span=(0, 3), match='thi'>\n"
     ]
    }
   ],
   "source": [
    "pattern = re.compile(r'^thi')    # string starting with [thi]\n",
    "\n",
    "matches = pattern.finditer(text)\n",
    "for i in matches: \n",
    "    print(i)"
   ]
  },
  {
   "cell_type": "code",
   "execution_count": 127,
   "metadata": {},
   "outputs": [
    {
     "name": "stdout",
     "output_type": "stream",
     "text": [
      "<re.Match object; span=(10, 14), match='demo'>\n"
     ]
    }
   ],
   "source": [
    "pattern = re.compile(r'demo$')    # string ending with [demo]\n",
    "\n",
    "matches = pattern.finditer(text)\n",
    "for i in matches: \n",
    "    print(i)"
   ]
  },
  {
   "cell_type": "code",
   "execution_count": 137,
   "metadata": {},
   "outputs": [],
   "source": [
    "text = ''' \n",
    "            123.342.3243  # valid\n",
    "            234-454-3433  # valid\n",
    "            \n",
    "            2324343.34343\n",
    "            43435/4545/3332\n",
    "       '''"
   ]
  },
  {
   "cell_type": "code",
   "execution_count": 149,
   "metadata": {},
   "outputs": [
    {
     "name": "stdout",
     "output_type": "stream",
     "text": [
      "<re.Match object; span=(14, 26), match='123.342.3243'>\n",
      "<re.Match object; span=(48, 60), match='234-454-3433'>\n"
     ]
    }
   ],
   "source": [
    "pattern = re.compile(r'\\d\\d\\d[. -]\\d\\d\\d[. -]\\d\\d\\d\\d')    # matching valid number\n",
    "\n",
    "matches = pattern.finditer(text)\n",
    "for i in matches: \n",
    "    print(i)"
   ]
  },
  {
   "cell_type": "code",
   "execution_count": 150,
   "metadata": {},
   "outputs": [],
   "source": [
    "text = ''' \n",
    "            123.342.3243  # invalid\n",
    "            234-454-3433  # invalid\n",
    "            \n",
    "            900.342.3243  # valid\n",
    "            800-454-3433  # valid\n",
    "       '''"
   ]
  },
  {
   "cell_type": "code",
   "execution_count": 154,
   "metadata": {},
   "outputs": [
    {
     "name": "stdout",
     "output_type": "stream",
     "text": [
      "<re.Match object; span=(99, 111), match='900.342.3243'>\n",
      "<re.Match object; span=(133, 145), match='800-454-3433'>\n"
     ]
    }
   ],
   "source": [
    "pattern = re.compile(r'[89]00[. -]\\d\\d\\d[. -]\\d\\d\\d\\d')    # matching valid number\n",
    "\n",
    "matches = pattern.finditer(text)\n",
    "for i in matches: \n",
    "    print(i)"
   ]
  },
  {
   "cell_type": "code",
   "execution_count": 172,
   "metadata": {},
   "outputs": [],
   "source": [
    "text = ''' \n",
    "            cat     \n",
    "            bat\n",
    "            mat\n",
    "            hat   # invalid\n",
    "            ereat # invalid\n",
    "       '''"
   ]
  },
  {
   "cell_type": "code",
   "execution_count": 173,
   "metadata": {},
   "outputs": [
    {
     "name": "stdout",
     "output_type": "stream",
     "text": [
      "<re.Match object; span=(14, 17), match='cat'>\n",
      "<re.Match object; span=(35, 38), match='bat'>\n",
      "<re.Match object; span=(51, 54), match='mat'>\n"
     ]
    }
   ],
   "source": [
    "pattern = re.compile(r'\\b[^h]at')    # matching words number\n",
    "\n",
    "matches = pattern.finditer(text)\n",
    "for i in matches: \n",
    "    print(i)"
   ]
  },
  {
   "cell_type": "code",
   "execution_count": 179,
   "metadata": {},
   "outputs": [],
   "source": [
    "text = ''' \n",
    "            123.342.3249  # valid\n",
    "            234-454-3433  # valid\n",
    "            \n",
    "            234-454-343  # valid\n",
    "            \n",
    "            2324343.34343\n",
    "            43435/4545/3332\n",
    "       '''"
   ]
  },
  {
   "cell_type": "code",
   "execution_count": 185,
   "metadata": {},
   "outputs": [
    {
     "name": "stdout",
     "output_type": "stream",
     "text": [
      "<re.Match object; span=(14, 26), match='123.342.3249'>\n",
      "<re.Match object; span=(48, 60), match='234-454-3433'>\n"
     ]
    }
   ],
   "source": [
    "pattern = re.compile(r'\\d{3}[.-]\\d{3}[.-]\\d{4}')    # matching words number with quanntifiers\n",
    "\n",
    "matches = pattern.finditer(text)\n",
    "for i in matches: \n",
    "    print(i)"
   ]
  },
  {
   "cell_type": "code",
   "execution_count": 187,
   "metadata": {},
   "outputs": [],
   "source": [
    "text = ''' \n",
    "          Mr. shiva         # match all of these\n",
    "          Mr verma\n",
    "          Mrs. ramna\n",
    "          Mrs rakhi\n",
    "          Mr P              # till here\n",
    "          \n",
    "          This is my number: 9816923811\n",
    "          and my mail is: shivajbd@gmail.com\n",
    "          \n",
    "          shiva verma\n",
    "       '''"
   ]
  },
  {
   "cell_type": "code",
   "execution_count": 228,
   "metadata": {},
   "outputs": [
    {
     "name": "stdout",
     "output_type": "stream",
     "text": [
      "<re.Match object; span=(12, 21), match='Mr. shiva'>\n",
      "<re.Match object; span=(61, 69), match='Mr verma'>\n",
      "<re.Match object; span=(80, 90), match='Mrs. ramna'>\n",
      "<re.Match object; span=(101, 110), match='Mrs rakhi'>\n",
      "<re.Match object; span=(121, 126), match='Mr P '>\n"
     ]
    }
   ],
   "source": [
    "pattern = re.compile(r'\\bMr(s|.){0,2}\\s\\w*')    # valid names\n",
    "\n",
    "matches = pattern.finditer(text)\n",
    "for i in matches: \n",
    "    print(i)"
   ]
  },
  {
   "cell_type": "code",
   "execution_count": 322,
   "metadata": {},
   "outputs": [],
   "source": [
    "text = ''' \n",
    "          shivajbd@gmail.com\n",
    "          anand.k.parmar@gmail.com\n",
    "          anand_parmar@gmail.com\n",
    "          vinod.123@hotmail.com\n",
    "          prashant-jbd123@yahoo.com\n",
    "          \n",
    "          SHuva@gmail.com\n",
    "          342@gmail.com\n",
    "          invalidmain.com\n",
    "          shiba@sds@gmail.com\n",
    "          this.is.tii@.com\n",
    "          mail@gmail.com.\n",
    "          main.gmail.com\n",
    "          hello@gmail-com\n",
    "          -..//@gmail.com\n",
    "       '''"
   ]
  },
  {
   "cell_type": "code",
   "execution_count": 323,
   "metadata": {},
   "outputs": [
    {
     "name": "stdout",
     "output_type": "stream",
     "text": [
      "<re.Match object; span=(11, 31), match=' shivajbd@gmail.com\\n'>\n",
      "<re.Match object; span=(40, 66), match=' anand.k.parmar@gmail.com\\n'>\n",
      "<re.Match object; span=(75, 99), match=' anand_parmar@gmail.com\\n'>\n",
      "<re.Match object; span=(108, 131), match=' vinod.123@hotmail.com\\n'>\n",
      "<re.Match object; span=(140, 167), match=' prashant-jbd123@yahoo.com\\n'>\n"
     ]
    }
   ],
   "source": [
    "pattern = re.compile(r'[\\s][a-z]+[\\.\\-\\_\\w]+\\@\\w+\\.com[\\s]')    # valid names\n",
    "\n",
    "matches = pattern.finditer(text)\n",
    "for i in matches: \n",
    "    print(i)"
   ]
  },
  {
   "cell_type": "code",
   "execution_count": 324,
   "metadata": {},
   "outputs": [
    {
     "name": "stdout",
     "output_type": "stream",
     "text": [
      " shivajbd@gmail.com\n",
      "\n",
      " anand.k.parmar@gmail.com\n",
      "\n",
      " anand_parmar@gmail.com\n",
      "\n",
      " vinod.123@hotmail.com\n",
      "\n",
      " prashant-jbd123@yahoo.com\n",
      "\n"
     ]
    }
   ],
   "source": [
    "pattern = re.compile(r'[\\s][a-z]+[\\.\\-\\_\\w]+\\@\\w+\\.com[\\s]')    # findall\n",
    "\n",
    "matches = pattern.findall(text)\n",
    "for i in matches: \n",
    "    print(i)"
   ]
  },
  {
   "cell_type": "code",
   "execution_count": 336,
   "metadata": {},
   "outputs": [],
   "source": [
    "text = \"how are how you how\""
   ]
  },
  {
   "cell_type": "code",
   "execution_count": 343,
   "metadata": {},
   "outputs": [
    {
     "name": "stdout",
     "output_type": "stream",
     "text": [
      "<re.Match object; span=(0, 3), match='how'>\n"
     ]
    }
   ],
   "source": [
    "pattern = re.compile(r'how')    # [match] matches the pattern only in start.\n",
    "\n",
    "matches = pattern.match(text)\n",
    "print(matches)"
   ]
  },
  {
   "cell_type": "code",
   "execution_count": 345,
   "metadata": {},
   "outputs": [
    {
     "name": "stdout",
     "output_type": "stream",
     "text": [
      "<re.Match object; span=(0, 3), match='how'>\n"
     ]
    }
   ],
   "source": [
    "pattern = re.compile(r'how')    # [search] search first occurance.\n",
    "\n",
    "matches = pattern.search(text)\n",
    "print(matches)"
   ]
  },
  {
   "cell_type": "code",
   "execution_count": 2,
   "metadata": {},
   "outputs": [],
   "source": [
    "text = \"How are you\""
   ]
  },
  {
   "cell_type": "code",
   "execution_count": 3,
   "metadata": {},
   "outputs": [
    {
     "name": "stdout",
     "output_type": "stream",
     "text": [
      "<re.Match object; span=(0, 3), match='How'>\n"
     ]
    }
   ],
   "source": [
    "pattern = re.compile(r'how', re.IGNORECASE)    # ignoring the case\n",
    "\n",
    "matches = pattern.match(text)\n",
    "print(matches)"
   ]
  },
  {
   "cell_type": "code",
   "execution_count": 293,
   "metadata": {},
   "outputs": [],
   "source": [
    "text = \"# $This$#is% Matrix#  %!\""
   ]
  },
  {
   "cell_type": "code",
   "execution_count": 294,
   "metadata": {},
   "outputs": [
    {
     "name": "stdout",
     "output_type": "stream",
     "text": [
      "# $\n"
     ]
    }
   ],
   "source": [
    "pattern = re.compile(r'^[^\\w]*')    # ignoring the case\n",
    "\n",
    "matches = pattern.findall(text)\n",
    "print(matches[0])"
   ]
  },
  {
   "cell_type": "code",
   "execution_count": 295,
   "metadata": {},
   "outputs": [
    {
     "data": {
      "text/plain": [
       "' '"
      ]
     },
     "execution_count": 295,
     "metadata": {},
     "output_type": "execute_result"
    }
   ],
   "source": [
    "a = '   '\n",
    "a.replace('   ',' ')"
   ]
  },
  {
   "cell_type": "code",
   "execution_count": null,
   "metadata": {},
   "outputs": [],
   "source": []
  }
 ],
 "metadata": {
  "kernelspec": {
   "display_name": "Python 3",
   "language": "python",
   "name": "python3"
  },
  "language_info": {
   "codemirror_mode": {
    "name": "ipython",
    "version": 3
   },
   "file_extension": ".py",
   "mimetype": "text/x-python",
   "name": "python",
   "nbconvert_exporter": "python",
   "pygments_lexer": "ipython3",
   "version": "3.7.3"
  }
 },
 "nbformat": 4,
 "nbformat_minor": 2
}
