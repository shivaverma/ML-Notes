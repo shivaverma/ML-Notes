{
 "cells": [
  {
   "cell_type": "code",
   "execution_count": 68,
   "metadata": {},
   "outputs": [],
   "source": [
    "import keras\n",
    "import numpy as np\n",
    "from keras.models import Model, Sequential\n",
    "from keras.layers import Dense, LSTM, Input"
   ]
  },
  {
   "cell_type": "code",
   "execution_count": 39,
   "metadata": {},
   "outputs": [],
   "source": [
    "# -------------adding two layers-------------\n",
    "\n",
    "input_1 = Input(shape=(16,))\n",
    "layer_1 = Dense(4)(input_1)\n",
    "\n",
    "input_2 = Input(shape=(8,))\n",
    "layer_2 = Dense(4)(input_2)\n",
    "\n",
    "added = keras.layers.Add()([layer_1, layer_2])\n",
    "\n",
    "layer_final = Dense(2)(added)\n",
    "\n",
    "model = Model(inputs=[input_1, input_2], outputs=layer_final)"
   ]
  },
  {
   "cell_type": "code",
   "execution_count": 41,
   "metadata": {},
   "outputs": [
    {
     "name": "stdout",
     "output_type": "stream",
     "text": [
      "__________________________________________________________________________________________________\n",
      "Layer (type)                    Output Shape         Param #     Connected to                     \n",
      "==================================================================================================\n",
      "input_42 (InputLayer)           (None, 16)           0                                            \n",
      "__________________________________________________________________________________________________\n",
      "input_43 (InputLayer)           (None, 8)            0                                            \n",
      "__________________________________________________________________________________________________\n",
      "dense_60 (Dense)                (None, 4)            68          input_42[0][0]                   \n",
      "__________________________________________________________________________________________________\n",
      "dense_61 (Dense)                (None, 4)            36          input_43[0][0]                   \n",
      "__________________________________________________________________________________________________\n",
      "add_24 (Add)                    (None, 4)            0           dense_60[0][0]                   \n",
      "                                                                 dense_61[0][0]                   \n",
      "__________________________________________________________________________________________________\n",
      "dense_62 (Dense)                (None, 2)            10          add_24[0][0]                     \n",
      "==================================================================================================\n",
      "Total params: 114\n",
      "Trainable params: 114\n",
      "Non-trainable params: 0\n",
      "__________________________________________________________________________________________________\n"
     ]
    }
   ],
   "source": [
    "model.summary()"
   ]
  },
  {
   "cell_type": "code",
   "execution_count": 165,
   "metadata": {},
   "outputs": [],
   "source": [
    "# -------------Multiplying two layers-------------\n",
    "\n",
    "input_1 = Input(shape=(16,8))\n",
    "layer_1 = Dense(4)(input_1)\n",
    "\n",
    "input_2 = Input(shape=(16,4))\n",
    "layer_2 = Dense(4)(input_2)\n",
    "\n",
    "multiplied = keras.layers.Multiply()([layer_1, layer_2])\n",
    "\n",
    "layer_final = Dense(2)(multiplied)\n",
    "\n",
    "model = Model(inputs=[input_1, input_2], outputs=layer_final)"
   ]
  },
  {
   "cell_type": "code",
   "execution_count": 166,
   "metadata": {},
   "outputs": [
    {
     "name": "stdout",
     "output_type": "stream",
     "text": [
      "__________________________________________________________________________________________________\n",
      "Layer (type)                    Output Shape         Param #     Connected to                     \n",
      "==================================================================================================\n",
      "input_106 (InputLayer)          (None, 16, 8)        0                                            \n",
      "__________________________________________________________________________________________________\n",
      "input_107 (InputLayer)          (None, 16, 4)        0                                            \n",
      "__________________________________________________________________________________________________\n",
      "dense_154 (Dense)               (None, 16, 4)        36          input_106[0][0]                  \n",
      "__________________________________________________________________________________________________\n",
      "dense_155 (Dense)               (None, 16, 4)        20          input_107[0][0]                  \n",
      "__________________________________________________________________________________________________\n",
      "multiply_4 (Multiply)           (None, 16, 4)        0           dense_154[0][0]                  \n",
      "                                                                 dense_155[0][0]                  \n",
      "__________________________________________________________________________________________________\n",
      "dense_156 (Dense)               (None, 16, 2)        10          multiply_4[0][0]                 \n",
      "==================================================================================================\n",
      "Total params: 66\n",
      "Trainable params: 66\n",
      "Non-trainable params: 0\n",
      "__________________________________________________________________________________________________\n"
     ]
    }
   ],
   "source": [
    "model.summary()"
   ]
  },
  {
   "cell_type": "code",
   "execution_count": 160,
   "metadata": {},
   "outputs": [],
   "source": [
    "# -------------Multiplying two layers-------------\n",
    "\n",
    "input_1 = Input(shape=(16,))\n",
    "layer_1 = Dense(8)(input_1)\n",
    "\n",
    "input_2 = Input(shape=(8,))\n",
    "layer_2 = Dense(8)(input_2)\n",
    "\n",
    "concatenated = keras.layers.Concatenate(axis=1)([layer_1, layer_2])\n",
    "\n",
    "layer_final = Dense(4)(concatenated)\n",
    "\n",
    "model = Model(inputs=[input_1, input_2], outputs=layer_final)"
   ]
  },
  {
   "cell_type": "code",
   "execution_count": 161,
   "metadata": {},
   "outputs": [
    {
     "name": "stdout",
     "output_type": "stream",
     "text": [
      "__________________________________________________________________________________________________\n",
      "Layer (type)                    Output Shape         Param #     Connected to                     \n",
      "==================================================================================================\n",
      "input_100 (InputLayer)          (None, 16, 2)        0                                            \n",
      "__________________________________________________________________________________________________\n",
      "input_101 (InputLayer)          (None, 8, 2)         0                                            \n",
      "__________________________________________________________________________________________________\n",
      "dense_146 (Dense)               (None, 16, 8)        24          input_100[0][0]                  \n",
      "__________________________________________________________________________________________________\n",
      "dense_147 (Dense)               (None, 8, 8)         24          input_101[0][0]                  \n",
      "__________________________________________________________________________________________________\n",
      "concatenate_22 (Concatenate)    (None, 24, 8)        0           dense_146[0][0]                  \n",
      "                                                                 dense_147[0][0]                  \n",
      "__________________________________________________________________________________________________\n",
      "dense_148 (Dense)               (None, 24, 4)        36          concatenate_22[0][0]             \n",
      "==================================================================================================\n",
      "Total params: 84\n",
      "Trainable params: 84\n",
      "Non-trainable params: 0\n",
      "__________________________________________________________________________________________________\n"
     ]
    }
   ],
   "source": [
    "model.summary()"
   ]
  },
  {
   "cell_type": "code",
   "execution_count": 158,
   "metadata": {},
   "outputs": [],
   "source": [
    "# -------------Multiplying two layers-------------\n",
    "\n",
    "input_1 = Input(shape=(16,))\n",
    "layer_1 = Dense(8)(input_1)\n",
    "\n",
    "input_2 = Input(shape=(8,))\n",
    "layer_2 = Dense(8)(input_2)\n",
    "\n",
    "doted = keras.layers.Dot(axes=1)([layer_1, layer_2])\n",
    "\n",
    "layer_final = Dense(4)(doted)\n",
    "\n",
    "model = Model(inputs=[input_1, input_2], outputs=layer_final)"
   ]
  },
  {
   "cell_type": "code",
   "execution_count": 159,
   "metadata": {},
   "outputs": [
    {
     "name": "stdout",
     "output_type": "stream",
     "text": [
      "__________________________________________________________________________________________________\n",
      "Layer (type)                    Output Shape         Param #     Connected to                     \n",
      "==================================================================================================\n",
      "input_98 (InputLayer)           (None, 16)           0                                            \n",
      "__________________________________________________________________________________________________\n",
      "input_99 (InputLayer)           (None, 8)            0                                            \n",
      "__________________________________________________________________________________________________\n",
      "dense_143 (Dense)               (None, 8)            136         input_98[0][0]                   \n",
      "__________________________________________________________________________________________________\n",
      "dense_144 (Dense)               (None, 8)            72          input_99[0][0]                   \n",
      "__________________________________________________________________________________________________\n",
      "dot_3 (Dot)                     (None, 1)            0           dense_143[0][0]                  \n",
      "                                                                 dense_144[0][0]                  \n",
      "__________________________________________________________________________________________________\n",
      "dense_145 (Dense)               (None, 4)            8           dot_3[0][0]                      \n",
      "==================================================================================================\n",
      "Total params: 216\n",
      "Trainable params: 216\n",
      "Non-trainable params: 0\n",
      "__________________________________________________________________________________________________\n"
     ]
    }
   ],
   "source": [
    "model.summary()"
   ]
  },
  {
   "cell_type": "code",
   "execution_count": 154,
   "metadata": {},
   "outputs": [],
   "source": [
    "a = np.random.rand(16)\n",
    "b = np.random.rand(8)"
   ]
  },
  {
   "cell_type": "code",
   "execution_count": 149,
   "metadata": {},
   "outputs": [],
   "source": [
    "model.compile(optimizer='adam', loss='mse')"
   ]
  },
  {
   "cell_type": "code",
   "execution_count": 150,
   "metadata": {
    "scrolled": true
   },
   "outputs": [
    {
     "data": {
      "text/plain": [
       "array([[0.09886955, 0.5140238 , 0.15610276, 0.08736517]], dtype=float32)"
      ]
     },
     "execution_count": 150,
     "metadata": {},
     "output_type": "execute_result"
    }
   ],
   "source": [
    "model.predict([[a],[b]])"
   ]
  },
  {
   "cell_type": "code",
   "execution_count": 151,
   "metadata": {},
   "outputs": [
    {
     "data": {
      "text/plain": [
       "(1, 4)"
      ]
     },
     "execution_count": 151,
     "metadata": {},
     "output_type": "execute_result"
    }
   ],
   "source": [
    "model.predict([[a],[b]]).shape"
   ]
  },
  {
   "cell_type": "code",
   "execution_count": null,
   "metadata": {},
   "outputs": [],
   "source": []
  }
 ],
 "metadata": {
  "kernelspec": {
   "display_name": "Python 3",
   "language": "python",
   "name": "python3"
  },
  "language_info": {
   "codemirror_mode": {
    "name": "ipython",
    "version": 3
   },
   "file_extension": ".py",
   "mimetype": "text/x-python",
   "name": "python",
   "nbconvert_exporter": "python",
   "pygments_lexer": "ipython3",
   "version": "3.6.4"
  }
 },
 "nbformat": 4,
 "nbformat_minor": 2
}
